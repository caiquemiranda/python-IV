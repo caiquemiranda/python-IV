{
 "cells": [
  {
   "cell_type": "code",
   "execution_count": null,
   "metadata": {},
   "outputs": [],
   "source": [
    "# Versão da Linguagem Python\n",
    "from platform import python_version\n",
    "print('Versão de Python Neste Jupyter Notebook:', python_version())\n",
    "\n",
    "# usaremos o filtro 'warning' para deixar mais limpo.\n",
    "import warnings\n",
    "warnings.filterwarnings('ignore')"
   ]
  },
  {
   "attachments": {},
   "cell_type": "markdown",
   "metadata": {},
   "source": [
    "### Keywords and Identifiers"
   ]
  },
  {
   "cell_type": "code",
   "execution_count": null,
   "metadata": {},
   "outputs": [],
   "source": [
    "# False  class    finally is       return\n",
    "# None   continue for     lambda   try\n",
    "# True   def      from    nonlocal while\n",
    "# and    del      global  not      with\n",
    "# as     elif     if      or       yield\n",
    "# assert else     import  pass\n",
    "# break  except   in      raise"
   ]
  },
  {
   "cell_type": "code",
   "execution_count": null,
   "metadata": {},
   "outputs": [],
   "source": [
    "a = 16\n",
    "b = 15\n",
    "print(a + b)"
   ]
  },
  {
   "cell_type": "code",
   "execution_count": null,
   "metadata": {},
   "outputs": [],
   "source": [
    "'India'"
   ]
  },
  {
   "cell_type": "code",
   "execution_count": null,
   "metadata": {},
   "outputs": [],
   "source": [
    "'India\\'s best'"
   ]
  },
  {
   "cell_type": "code",
   "execution_count": null,
   "metadata": {},
   "outputs": [],
   "source": [
    "\"Hello World!\""
   ]
  },
  {
   "cell_type": "code",
   "execution_count": null,
   "metadata": {},
   "outputs": [],
   "source": [
    "#!/usr/bin/env python3\n",
    "\n",
    "number = int(input('Enter an integer: '))\n",
    "\n",
    "if number < 100:\n",
    "    print('Your number is smaller than 100')\n",
    "else:\n",
    "    print('Your number is greater than 100')"
   ]
  },
  {
   "cell_type": "code",
   "execution_count": null,
   "metadata": {},
   "outputs": [],
   "source": [
    "#!/usr/bin/env python3\n",
    "\n",
    "amount = float(input('Enter amount: '))\n",
    "inrate = float(input('Enter interest rate: '))\n",
    "period = int(input('Enter period: '))\n",
    "\n",
    "value = 0\n",
    "year = 1\n",
    "\n",
    "while year <= period:\n",
    "    value = amount + (inrate * amount)\n",
    "    print(f'Year {year} Rs. {value}')\n",
    "    amount = value\n",
    "    year = year + 1"
   ]
  },
  {
   "cell_type": "code",
   "execution_count": null,
   "metadata": {},
   "outputs": [],
   "source": [
    "#!/usr/bin/env python3\n",
    "\n",
    "N, sum, cont = 10, 0, 0\n",
    "while cont < N:\n",
    "    number = float(input(''))\n",
    "    sum = sum + number\n",
    "    cont += 1\n",
    "    average = float(sum) / N\n",
    "    print(f'N = {N}, Sum = {sum}')\n",
    "    print(f'Average = {average}')\n",
    "    "
   ]
  },
  {
   "cell_type": "code",
   "execution_count": 2,
   "metadata": {},
   "outputs": [
    {
     "name": "stdout",
     "output_type": "stream",
     "text": [
      "Fahrenheit Celsius\n",
      "0.0, -17.77777777777778\n",
      "25.0, -3.888888888888889\n",
      "50.0, 10.0\n",
      "75.0, 23.88888888888889\n",
      "100.0, 37.77777777777778\n",
      "125.0, 51.666666666666664\n",
      "150.0, 65.55555555555556\n",
      "175.0, 79.44444444444444\n",
      "200.0, 93.33333333333333\n",
      "225.0, 107.22222222222221\n",
      "250.0, 121.11111111111111\n"
     ]
    }
   ],
   "source": [
    "#!/usr/bin/env python3\n",
    "\n",
    "fahrenheit = 0.0\n",
    "print(\"Fahrenheit Celsius\")\n",
    "while fahrenheit <= 250:\n",
    "    celsius = (fahrenheit - 32.0) / 1.8\n",
    "    print(f'{fahrenheit}, {celsius}')\n",
    "    fahrenheit = fahrenheit + 25"
   ]
  },
  {
   "cell_type": "code",
   "execution_count": null,
   "metadata": {},
   "outputs": [],
   "source": []
  },
  {
   "cell_type": "code",
   "execution_count": null,
   "metadata": {},
   "outputs": [],
   "source": []
  },
  {
   "cell_type": "code",
   "execution_count": null,
   "metadata": {},
   "outputs": [],
   "source": []
  },
  {
   "cell_type": "code",
   "execution_count": null,
   "metadata": {},
   "outputs": [],
   "source": []
  },
  {
   "cell_type": "code",
   "execution_count": null,
   "metadata": {},
   "outputs": [],
   "source": []
  },
  {
   "cell_type": "code",
   "execution_count": null,
   "metadata": {},
   "outputs": [],
   "source": []
  },
  {
   "cell_type": "code",
   "execution_count": null,
   "metadata": {},
   "outputs": [],
   "source": []
  },
  {
   "cell_type": "code",
   "execution_count": null,
   "metadata": {},
   "outputs": [],
   "source": [
    "%reload_ext watermark\n",
    "%watermark -a \"Caique Miranda\" -gu \"caiquemiranda\" -iv"
   ]
  },
  {
   "attachments": {},
   "cell_type": "markdown",
   "metadata": {},
   "source": [
    "### End."
   ]
  }
 ],
 "metadata": {
  "kernelspec": {
   "display_name": "Python 3",
   "language": "python",
   "name": "python3"
  },
  "language_info": {
   "codemirror_mode": {
    "name": "ipython",
    "version": 3
   },
   "file_extension": ".py",
   "mimetype": "text/x-python",
   "name": "python",
   "nbconvert_exporter": "python",
   "pygments_lexer": "ipython3",
   "version": "3.10.5"
  },
  "orig_nbformat": 4
 },
 "nbformat": 4,
 "nbformat_minor": 2
}
