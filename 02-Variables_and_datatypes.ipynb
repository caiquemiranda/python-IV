{
 "cells": [
  {
   "cell_type": "code",
   "execution_count": 1,
   "metadata": {},
   "outputs": [
    {
     "name": "stdout",
     "output_type": "stream",
     "text": [
      "Versão de Python Neste Jupyter Notebook: 3.10.5\n"
     ]
    }
   ],
   "source": [
    "# Versão da Linguagem Python\n",
    "from platform import python_version\n",
    "print('Versão de Python Neste Jupyter Notebook:', python_version())\n",
    "\n",
    "# usaremos o filtro 'warning' para deixar mais limpo.\n",
    "import warnings\n",
    "warnings.filterwarnings('ignore')"
   ]
  },
  {
   "attachments": {},
   "cell_type": "markdown",
   "metadata": {},
   "source": [
    "### Keywords and Identifiers"
   ]
  },
  {
   "cell_type": "code",
   "execution_count": 2,
   "metadata": {},
   "outputs": [],
   "source": [
    "# False  class    finally is       return\n",
    "# None   continue for     lambda   try\n",
    "# True   def      from    nonlocal while\n",
    "# and    del      global  not      with\n",
    "# as     elif     if      or       yield\n",
    "# assert else     import  pass\n",
    "# break  except   in      raise"
   ]
  },
  {
   "cell_type": "code",
   "execution_count": 3,
   "metadata": {},
   "outputs": [
    {
     "name": "stdout",
     "output_type": "stream",
     "text": [
      "31\n"
     ]
    }
   ],
   "source": [
    "a = 16\n",
    "b = 15\n",
    "print(a + b)"
   ]
  },
  {
   "cell_type": "code",
   "execution_count": 4,
   "metadata": {},
   "outputs": [
    {
     "data": {
      "text/plain": [
       "'India'"
      ]
     },
     "execution_count": 4,
     "metadata": {},
     "output_type": "execute_result"
    }
   ],
   "source": [
    "'India'"
   ]
  },
  {
   "cell_type": "code",
   "execution_count": 5,
   "metadata": {},
   "outputs": [
    {
     "data": {
      "text/plain": [
       "\"India's best\""
      ]
     },
     "execution_count": 5,
     "metadata": {},
     "output_type": "execute_result"
    }
   ],
   "source": [
    "'India\\'s best'"
   ]
  },
  {
   "cell_type": "code",
   "execution_count": 6,
   "metadata": {},
   "outputs": [
    {
     "data": {
      "text/plain": [
       "'Hello World!'"
      ]
     },
     "execution_count": 6,
     "metadata": {},
     "output_type": "execute_result"
    }
   ],
   "source": [
    "\"Hello World!\""
   ]
  },
  {
   "cell_type": "code",
   "execution_count": 7,
   "metadata": {},
   "outputs": [
    {
     "name": "stdout",
     "output_type": "stream",
     "text": [
      "Your number is smaller than 100\n"
     ]
    }
   ],
   "source": [
    "#!/usr/bin/env python3\n",
    "\n",
    "number = int(input('Enter an integer: '))\n",
    "\n",
    "if number < 100:\n",
    "    print('Your number is smaller than 100')\n",
    "\n",
    "else:\n",
    "    print('Your number is greater than 100')"
   ]
  },
  {
   "cell_type": "code",
   "execution_count": 8,
   "metadata": {},
   "outputs": [
    {
     "name": "stdout",
     "output_type": "stream",
     "text": [
      "Year 1 Rs. 300.0\n",
      "Year 2 Rs. 1800.0\n",
      "Year 3 Rs. 10800.0\n",
      "Year 4 Rs. 64800.0\n",
      "Year 5 Rs. 388800.0\n",
      "Year 6 Rs. 2332800.0\n",
      "Year 7 Rs. 13996800.0\n",
      "Year 8 Rs. 83980800.0\n",
      "Year 9 Rs. 503884800.0\n",
      "Year 10 Rs. 3023308800.0\n",
      "Year 11 Rs. 18139852800.0\n",
      "Year 12 Rs. 108839116800.0\n",
      "Year 13 Rs. 653034700800.0\n",
      "Year 14 Rs. 3918208204800.0\n",
      "Year 15 Rs. 23509249228800.0\n",
      "Year 16 Rs. 141055495372800.0\n",
      "Year 17 Rs. 846332972236800.0\n",
      "Year 18 Rs. 5077997833420800.0\n",
      "Year 19 Rs. 3.04679870005248e+16\n",
      "Year 20 Rs. 1.828079220031488e+17\n",
      "Year 21 Rs. 1.0968475320188928e+18\n",
      "Year 22 Rs. 6.581085192113357e+18\n",
      "Year 23 Rs. 3.948651115268014e+19\n",
      "Year 24 Rs. 2.3691906691608084e+20\n",
      "Year 25 Rs. 1.421514401496485e+21\n"
     ]
    }
   ],
   "source": [
    "#!/usr/bin/env python3\n",
    "\n",
    "amount = float(input('Enter amount: '))\n",
    "inrate = float(input('Enter interest rate: '))\n",
    "period = int(input('Enter period: '))\n",
    "\n",
    "value = 0\n",
    "year = 1\n",
    "\n",
    "while year <= period:\n",
    "    value = amount + (inrate * amount)\n",
    "    print(f'Year {year} Rs. {value}')\n",
    "    amount = value\n",
    "    year = year + 1"
   ]
  },
  {
   "cell_type": "code",
   "execution_count": null,
   "metadata": {},
   "outputs": [],
   "source": [
    "#!/usr/bin/env python3\n",
    "\n",
    "N, sum, cont = 10, 0, 0\n",
    "while cont < N:\n",
    "    number = float(input(''))\n",
    "    sum = sum + number\n",
    "    cont += 1\n",
    "    average = float(sum) / N\n",
    "    print(f'N = {N}, Sum = {sum}')\n",
    "    print(f'Average = {average}')\n",
    "    "
   ]
  },
  {
   "cell_type": "code",
   "execution_count": 10,
   "metadata": {},
   "outputs": [
    {
     "name": "stdout",
     "output_type": "stream",
     "text": [
      "Fahrenheit Celsius\n",
      "0.0, -17.77777777777778\n",
      "25.0, -3.888888888888889\n",
      "50.0, 10.0\n",
      "75.0, 23.88888888888889\n",
      "100.0, 37.77777777777778\n",
      "125.0, 51.666666666666664\n",
      "150.0, 65.55555555555556\n",
      "175.0, 79.44444444444444\n",
      "200.0, 93.33333333333333\n",
      "225.0, 107.22222222222221\n",
      "250.0, 121.11111111111111\n"
     ]
    }
   ],
   "source": [
    "#!/usr/bin/env python3\n",
    "\n",
    "fahrenheit = 0.0\n",
    "print(\"Fahrenheit Celsius\")\n",
    "while fahrenheit <= 250:\n",
    "    celsius = (fahrenheit - 32.0) / 1.8\n",
    "    print(f'{fahrenheit}, {celsius}')\n",
    "    fahrenheit = fahrenheit + 25"
   ]
  },
  {
   "attachments": {},
   "cell_type": "markdown",
   "metadata": {},
   "source": [
    "### Multiple assignments in a single line"
   ]
  },
  {
   "cell_type": "code",
   "execution_count": 11,
   "metadata": {},
   "outputs": [
    {
     "name": "stdout",
     "output_type": "stream",
     "text": [
      "45\n",
      "54\n"
     ]
    }
   ],
   "source": [
    "a, b = 45, 54\n",
    "print(a)\n",
    "print(b)"
   ]
  },
  {
   "cell_type": "code",
   "execution_count": 12,
   "metadata": {},
   "outputs": [
    {
     "name": "stdout",
     "output_type": "stream",
     "text": [
      "54\n",
      "45\n"
     ]
    }
   ],
   "source": [
    "a, b = b, a\n",
    "print(a)\n",
    "print(b)"
   ]
  },
  {
   "cell_type": "code",
   "execution_count": 13,
   "metadata": {},
   "outputs": [],
   "source": [
    "data = (\"Miranda\", \"Brazil\", \"Python\")\n",
    "name, country, language = data"
   ]
  },
  {
   "cell_type": "code",
   "execution_count": 14,
   "metadata": {},
   "outputs": [
    {
     "name": "stdout",
     "output_type": "stream",
     "text": [
      "Miranda\n",
      "Brazil\n",
      "Python\n"
     ]
    }
   ],
   "source": [
    "print(name)\n",
    "print(country)\n",
    "print(language)"
   ]
  },
  {
   "cell_type": "code",
   "execution_count": 15,
   "metadata": {},
   "outputs": [],
   "source": [
    "RED = (255, 0, 0)\n",
    "GREEN = (0, 255, 0)\n",
    "BLUE = (0, 0, 255)"
   ]
  },
  {
   "cell_type": "code",
   "execution_count": 16,
   "metadata": {},
   "outputs": [
    {
     "name": "stdout",
     "output_type": "stream",
     "text": [
      "(255, 0, 0)\n"
     ]
    }
   ],
   "source": [
    "print(RED)"
   ]
  },
  {
   "attachments": {},
   "cell_type": "markdown",
   "metadata": {},
   "source": [
    "### Formatting strings"
   ]
  },
  {
   "cell_type": "code",
   "execution_count": 17,
   "metadata": {},
   "outputs": [
    {
     "name": "stdout",
     "output_type": "stream",
     "text": [
      "Miranda like Python.\n"
     ]
    }
   ],
   "source": [
    "name = 'Miranda'\n",
    "language = 'Python'\n",
    "msg = f'{name} like {language}.'\n",
    "print(msg)"
   ]
  },
  {
   "cell_type": "code",
   "execution_count": 18,
   "metadata": {},
   "outputs": [
    {
     "name": "stdout",
     "output_type": "stream",
     "text": [
      "The answer is 42\n"
     ]
    }
   ],
   "source": [
    "answer = 42\n",
    "print(f'The answer is {answer}')"
   ]
  },
  {
   "cell_type": "code",
   "execution_count": 19,
   "metadata": {},
   "outputs": [],
   "source": [
    "import datetime\n",
    "d = datetime.date(2020, 9, 8)"
   ]
  },
  {
   "cell_type": "code",
   "execution_count": 20,
   "metadata": {},
   "outputs": [
    {
     "data": {
      "text/plain": [
       "'2020-09-08 Was a Friday, we started the mailing list back then.'"
      ]
     },
     "execution_count": 20,
     "metadata": {},
     "output_type": "execute_result"
    }
   ],
   "source": [
    "f'{d} Was a Friday, we started the mailing list back then.'"
   ]
  },
  {
   "cell_type": "code",
   "execution_count": 21,
   "metadata": {},
   "outputs": [
    {
     "name": "stdout",
     "output_type": "stream",
     "text": [
      "a=1 and b=2\n"
     ]
    }
   ],
   "source": [
    "a, b = 1, 2\n",
    "print(f'{a=} and {b=}')"
   ]
  },
  {
   "attachments": {},
   "cell_type": "markdown",
   "metadata": {},
   "source": [
    "#### `.format` method"
   ]
  },
  {
   "cell_type": "code",
   "execution_count": 22,
   "metadata": {},
   "outputs": [],
   "source": [
    "name = 'Miranda'\n",
    "language = 'Python'\n",
    "msg = '{0} like {1}.'.format(name, language)"
   ]
  },
  {
   "cell_type": "code",
   "execution_count": 23,
   "metadata": {},
   "outputs": [
    {
     "name": "stdout",
     "output_type": "stream",
     "text": [
      "Author: Caique Miranda\n",
      "\n",
      "Github username: caiquemiranda\n",
      "\n"
     ]
    }
   ],
   "source": [
    "%reload_ext watermark\n",
    "%watermark -a \"Caique Miranda\" -gu \"caiquemiranda\" -iv"
   ]
  },
  {
   "attachments": {},
   "cell_type": "markdown",
   "metadata": {},
   "source": [
    "### End."
   ]
  }
 ],
 "metadata": {
  "kernelspec": {
   "display_name": "Python 3",
   "language": "python",
   "name": "python3"
  },
  "language_info": {
   "codemirror_mode": {
    "name": "ipython",
    "version": 3
   },
   "file_extension": ".py",
   "mimetype": "text/x-python",
   "name": "python",
   "nbconvert_exporter": "python",
   "pygments_lexer": "ipython3",
   "version": "3.10.5"
  },
  "orig_nbformat": 4
 },
 "nbformat": 4,
 "nbformat_minor": 2
}
